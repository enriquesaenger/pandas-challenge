{
 "cells": [
  {
   "cell_type": "markdown",
   "metadata": {},
   "source": [
    "### Note\n",
    "* Instructions have been included for each segment. You do not have to follow them exactly, but they are included to help you think through the steps."
   ]
  },
  {
   "cell_type": "code",
   "execution_count": 2,
   "metadata": {},
   "outputs": [],
   "source": [
    "# Dependencies and Setup\n",
    "import pandas as pd\n",
    "\n",
    "# File to Load (Remember to Change These)\n",
    "csv_path = \"Resources/purchase_data.csv\"\n",
    "\n",
    "# Read Purchasing File and store into Pandas data frame\n",
    "purchase_data = pd.read_csv(csv_path)"
   ]
  },
  {
   "cell_type": "markdown",
   "metadata": {},
   "source": [
    "## Player Count"
   ]
  },
  {
   "cell_type": "markdown",
   "metadata": {},
   "source": [
    "* Display the total number of players\n"
   ]
  },
  {
   "cell_type": "code",
   "execution_count": 3,
   "metadata": {},
   "outputs": [
    {
     "data": {
      "text/html": [
       "<div>\n",
       "<style scoped>\n",
       "    .dataframe tbody tr th:only-of-type {\n",
       "        vertical-align: middle;\n",
       "    }\n",
       "\n",
       "    .dataframe tbody tr th {\n",
       "        vertical-align: top;\n",
       "    }\n",
       "\n",
       "    .dataframe thead th {\n",
       "        text-align: right;\n",
       "    }\n",
       "</style>\n",
       "<table border=\"1\" class=\"dataframe\">\n",
       "  <thead>\n",
       "    <tr style=\"text-align: right;\">\n",
       "      <th></th>\n",
       "      <th>Total Players</th>\n",
       "    </tr>\n",
       "  </thead>\n",
       "  <tbody>\n",
       "    <tr>\n",
       "      <th>0</th>\n",
       "      <td>576</td>\n",
       "    </tr>\n",
       "  </tbody>\n",
       "</table>\n",
       "</div>"
      ],
      "text/plain": [
       "   Total Players\n",
       "0            576"
      ]
     },
     "execution_count": 3,
     "metadata": {},
     "output_type": "execute_result"
    }
   ],
   "source": [
    "# find all unique SN, count them, and assign to total_players\n",
    "total_players = purchase_data[\"SN\"].nunique()\n",
    "\n",
    "# create data frame for player count\n",
    "playerCount_df = pd.DataFrame({\"Total Players\": [total_players]})\n",
    "\n",
    "# display data frame\n",
    "playerCount_df"
   ]
  },
  {
   "cell_type": "markdown",
   "metadata": {},
   "source": [
    "## Purchasing Analysis (Total)"
   ]
  },
  {
   "cell_type": "markdown",
   "metadata": {},
   "source": [
    "* Run basic calculations to obtain number of unique items, average price, etc.\n",
    "\n",
    "\n",
    "* Create a summary data frame to hold the results\n",
    "\n",
    "\n",
    "* Optional: give the displayed data cleaner formatting\n",
    "\n",
    "\n",
    "* Display the summary data frame\n"
   ]
  },
  {
   "cell_type": "code",
   "execution_count": 4,
   "metadata": {
    "scrolled": true
   },
   "outputs": [
    {
     "data": {
      "text/html": [
       "<style  type=\"text/css\" >\n",
       "</style><table id=\"T_4a07a19a_286d_11ea_8850_acde48001122\" ><thead>    <tr>        <th class=\"blank level0\" ></th>        <th class=\"col_heading level0 col0\" >Number of Unique Items</th>        <th class=\"col_heading level0 col1\" >Average Price</th>        <th class=\"col_heading level0 col2\" >Number of Purchases</th>        <th class=\"col_heading level0 col3\" >Total Revenue</th>    </tr></thead><tbody>\n",
       "                <tr>\n",
       "                        <th id=\"T_4a07a19a_286d_11ea_8850_acde48001122level0_row0\" class=\"row_heading level0 row0\" >0</th>\n",
       "                        <td id=\"T_4a07a19a_286d_11ea_8850_acde48001122row0_col0\" class=\"data row0 col0\" >183</td>\n",
       "                        <td id=\"T_4a07a19a_286d_11ea_8850_acde48001122row0_col1\" class=\"data row0 col1\" >$3.05</td>\n",
       "                        <td id=\"T_4a07a19a_286d_11ea_8850_acde48001122row0_col2\" class=\"data row0 col2\" >780</td>\n",
       "                        <td id=\"T_4a07a19a_286d_11ea_8850_acde48001122row0_col3\" class=\"data row0 col3\" >$2,379.77</td>\n",
       "            </tr>\n",
       "    </tbody></table>"
      ],
      "text/plain": [
       "<pandas.io.formats.style.Styler at 0x1174153c8>"
      ]
     },
     "execution_count": 4,
     "metadata": {},
     "output_type": "execute_result"
    }
   ],
   "source": [
    "# find all unique items, count them, and assign to unique_items\n",
    "unique_items = purchase_data[\"Item ID\"].nunique()\n",
    "\n",
    "# sum up all prices to find total_revenue\n",
    "total_revenue = purchase_data[\"Price\"].sum()\n",
    "\n",
    "# find all unique purchase IDs to calculate total number of purchases\n",
    "purchases = purchase_data[\"Purchase ID\"].nunique()\n",
    "\n",
    "# calculate average price\n",
    "average_price = total_revenue / purchases\n",
    "\n",
    "# create a summary database\n",
    "summary_df = pd.DataFrame({\"Number of Unique Items\": [unique_items], \"Average Price\": [average_price], \n",
    "                          \"Number of Purchases\": [purchases], \"Total Revenue\": [total_revenue]})\n",
    "\n",
    "# clean up formatting for data frame\n",
    "summary_df = summary_df.style.format({\"Average Price\": '${0:,.2f}', \"Total Revenue\": '${0:,.2f}'})\n",
    "\n",
    "# display data frame\n",
    "summary_df"
   ]
  },
  {
   "cell_type": "markdown",
   "metadata": {},
   "source": [
    "## Gender Demographics"
   ]
  },
  {
   "cell_type": "markdown",
   "metadata": {},
   "source": [
    "* Percentage and Count of Male Players\n",
    "\n",
    "\n",
    "* Percentage and Count of Female Players\n",
    "\n",
    "\n",
    "* Percentage and Count of Other / Non-Disclosed\n",
    "\n",
    "\n"
   ]
  },
  {
   "cell_type": "code",
   "execution_count": 5,
   "metadata": {},
   "outputs": [
    {
     "data": {
      "text/html": [
       "<style  type=\"text/css\" >\n",
       "</style><table id=\"T_4be16f78_286d_11ea_890c_acde48001122\" ><thead>    <tr>        <th class=\"blank level0\" ></th>        <th class=\"col_heading level0 col0\" >Total Count</th>        <th class=\"col_heading level0 col1\" >Percentage of Players</th>    </tr></thead><tbody>\n",
       "                <tr>\n",
       "                        <th id=\"T_4be16f78_286d_11ea_890c_acde48001122level0_row0\" class=\"row_heading level0 row0\" >Male</th>\n",
       "                        <td id=\"T_4be16f78_286d_11ea_890c_acde48001122row0_col0\" class=\"data row0 col0\" >484</td>\n",
       "                        <td id=\"T_4be16f78_286d_11ea_890c_acde48001122row0_col1\" class=\"data row0 col1\" >84.03%</td>\n",
       "            </tr>\n",
       "            <tr>\n",
       "                        <th id=\"T_4be16f78_286d_11ea_890c_acde48001122level0_row1\" class=\"row_heading level0 row1\" >Female</th>\n",
       "                        <td id=\"T_4be16f78_286d_11ea_890c_acde48001122row1_col0\" class=\"data row1 col0\" >81</td>\n",
       "                        <td id=\"T_4be16f78_286d_11ea_890c_acde48001122row1_col1\" class=\"data row1 col1\" >14.06%</td>\n",
       "            </tr>\n",
       "            <tr>\n",
       "                        <th id=\"T_4be16f78_286d_11ea_890c_acde48001122level0_row2\" class=\"row_heading level0 row2\" >Other / Non-Disclosed</th>\n",
       "                        <td id=\"T_4be16f78_286d_11ea_890c_acde48001122row2_col0\" class=\"data row2 col0\" >11</td>\n",
       "                        <td id=\"T_4be16f78_286d_11ea_890c_acde48001122row2_col1\" class=\"data row2 col1\" >1.91%</td>\n",
       "            </tr>\n",
       "    </tbody></table>"
      ],
      "text/plain": [
       "<pandas.io.formats.style.Styler at 0x117aac630>"
      ]
     },
     "execution_count": 5,
     "metadata": {},
     "output_type": "execute_result"
    }
   ],
   "source": [
    "# drop all duplicate SN\n",
    "uniqueSN_df = purchase_data.drop_duplicates(\"SN\")\n",
    "\n",
    "# count number of males, females, and other / non-disclosed\n",
    "number_male = uniqueSN_df.loc[uniqueSN_df[\"Gender\"] == \"Male\", \"Gender\"].count()\n",
    "number_female = uniqueSN_df.loc[uniqueSN_df[\"Gender\"] == \"Female\", \"Gender\"].count()\n",
    "number_other = uniqueSN_df.loc[uniqueSN_df[\"Gender\"] == \"Other / Non-Disclosed\", \"Gender\"].count()\n",
    "\n",
    "# create index for data frame\n",
    "index = [\"Male\", \"Female\", \"Other / Non-Disclosed\"]\n",
    "\n",
    "# calculate percentage for each gender\n",
    "percent_male = (number_male / total_players) * 100\n",
    "percent_female = (number_female / total_players) * 100\n",
    "percent_other = (number_other / total_players) * 100\n",
    "\n",
    "# create gender demographics data frame\n",
    "genderDemo_df = pd.DataFrame({\"Total Count\": [number_male, number_female, number_other],\n",
    "                         \"Percentage of Players\": [percent_male, percent_female, percent_other]}, index = index)\n",
    "\n",
    "# clean up data frame\n",
    "genderDemo_df = genderDemo_df.style.format({\"Percentage of Players\": '{0:,.2f}%'})\n",
    "\n",
    "# display data frame\n",
    "genderDemo_df"
   ]
  },
  {
   "cell_type": "markdown",
   "metadata": {},
   "source": [
    "\n",
    "## Purchasing Analysis (Gender)"
   ]
  },
  {
   "cell_type": "markdown",
   "metadata": {},
   "source": [
    "* Run basic calculations to obtain purchase count, avg. purchase price, avg. purchase total per person etc. by gender\n",
    "\n",
    "\n",
    "\n",
    "\n",
    "* Create a summary data frame to hold the results\n",
    "\n",
    "\n",
    "* Optional: give the displayed data cleaner formatting\n",
    "\n",
    "\n",
    "* Display the summary data frame"
   ]
  },
  {
   "cell_type": "code",
   "execution_count": 6,
   "metadata": {},
   "outputs": [
    {
     "data": {
      "text/html": [
       "<style  type=\"text/css\" >\n",
       "</style><table id=\"T_52f112c8_286d_11ea_9701_acde48001122\" ><thead>    <tr>        <th class=\"blank level0\" ></th>        <th class=\"col_heading level0 col0\" >Purchase Count</th>        <th class=\"col_heading level0 col1\" >Average Purchase Price</th>        <th class=\"col_heading level0 col2\" >Total Purchase Value</th>        <th class=\"col_heading level0 col3\" >Avg Total Purchase per Person</th>    </tr>    <tr>        <th class=\"index_name level0\" >Gender</th>        <th class=\"blank\" ></th>        <th class=\"blank\" ></th>        <th class=\"blank\" ></th>        <th class=\"blank\" ></th>    </tr></thead><tbody>\n",
       "                <tr>\n",
       "                        <th id=\"T_52f112c8_286d_11ea_9701_acde48001122level0_row0\" class=\"row_heading level0 row0\" >Female</th>\n",
       "                        <td id=\"T_52f112c8_286d_11ea_9701_acde48001122row0_col0\" class=\"data row0 col0\" >113</td>\n",
       "                        <td id=\"T_52f112c8_286d_11ea_9701_acde48001122row0_col1\" class=\"data row0 col1\" >$3.20</td>\n",
       "                        <td id=\"T_52f112c8_286d_11ea_9701_acde48001122row0_col2\" class=\"data row0 col2\" >$361.94</td>\n",
       "                        <td id=\"T_52f112c8_286d_11ea_9701_acde48001122row0_col3\" class=\"data row0 col3\" >$4.47</td>\n",
       "            </tr>\n",
       "            <tr>\n",
       "                        <th id=\"T_52f112c8_286d_11ea_9701_acde48001122level0_row1\" class=\"row_heading level0 row1\" >Male</th>\n",
       "                        <td id=\"T_52f112c8_286d_11ea_9701_acde48001122row1_col0\" class=\"data row1 col0\" >652</td>\n",
       "                        <td id=\"T_52f112c8_286d_11ea_9701_acde48001122row1_col1\" class=\"data row1 col1\" >$3.02</td>\n",
       "                        <td id=\"T_52f112c8_286d_11ea_9701_acde48001122row1_col2\" class=\"data row1 col2\" >$1,967.64</td>\n",
       "                        <td id=\"T_52f112c8_286d_11ea_9701_acde48001122row1_col3\" class=\"data row1 col3\" >$4.07</td>\n",
       "            </tr>\n",
       "            <tr>\n",
       "                        <th id=\"T_52f112c8_286d_11ea_9701_acde48001122level0_row2\" class=\"row_heading level0 row2\" >Other / Non-Disclosed</th>\n",
       "                        <td id=\"T_52f112c8_286d_11ea_9701_acde48001122row2_col0\" class=\"data row2 col0\" >15</td>\n",
       "                        <td id=\"T_52f112c8_286d_11ea_9701_acde48001122row2_col1\" class=\"data row2 col1\" >$3.35</td>\n",
       "                        <td id=\"T_52f112c8_286d_11ea_9701_acde48001122row2_col2\" class=\"data row2 col2\" >$50.19</td>\n",
       "                        <td id=\"T_52f112c8_286d_11ea_9701_acde48001122row2_col3\" class=\"data row2 col3\" >$4.56</td>\n",
       "            </tr>\n",
       "    </tbody></table>"
      ],
      "text/plain": [
       "<pandas.io.formats.style.Styler at 0x117d1d0b8>"
      ]
     },
     "execution_count": 6,
     "metadata": {},
     "output_type": "execute_result"
    }
   ],
   "source": [
    "# create data frames with only price data for each gender\n",
    "male_df = pd.DataFrame(purchase_data.loc[purchase_data[\"Gender\"] == \"Male\", \"Price\"])\n",
    "female_df = pd.DataFrame(purchase_data.loc[purchase_data[\"Gender\"] == \"Female\", \"Price\"])\n",
    "other_df = pd.DataFrame(purchase_data.loc[purchase_data[\"Gender\"] == \"Other / Non-Disclosed\", \"Price\"])\n",
    "\n",
    "# create new index (as per new order requested)\n",
    "new_index = [\"Female\", \"Male\", \"Other / Non-Disclosed\"]\n",
    "\n",
    "# calculate total value of purchases by gender\n",
    "male_total = male_df[\"Price\"].sum()\n",
    "female_total = female_df[\"Price\"].sum()\n",
    "other_total = other_df[\"Price\"].sum()\n",
    "\n",
    "# calculate number of purchases by gender\n",
    "male_purchase_count = len(male_df)\n",
    "female_purchase_count = len(female_df)\n",
    "other_purchase_count = len(other_df)\n",
    "\n",
    "# calculate average purchase price by gender\n",
    "male_average = male_total / male_purchase_count\n",
    "female_average = female_total / female_purchase_count\n",
    "other_average = other_total / other_purchase_count\n",
    "\n",
    "# calculate average total purchase per person by gender\n",
    "per_male = male_total / number_male\n",
    "per_female = female_total / number_female\n",
    "per_other = other_total / number_other\n",
    "\n",
    "# create purchasing analysis data frame\n",
    "purchasing_df = pd.DataFrame({\"Purchase Count\": [female_purchase_count, male_purchase_count, other_purchase_count],\n",
    "                             \"Average Purchase Price\": [female_average, male_average, other_average],\n",
    "                             \"Total Purchase Value\": [female_total, male_total, other_total],\n",
    "                             \"Avg Total Purchase per Person\": [per_female, per_male, per_other]}, index=new_index)\n",
    "\n",
    "# give index a title\n",
    "purchasing_df.index.name = \"Gender\"\n",
    "\n",
    "# clean up data frame\n",
    "purchasing_df = purchasing_df.style.format({\"Average Purchase Price\": '${0:,.2f}',\n",
    "                                            \"Total Purchase Value\": '${0:,.2f}',\n",
    "                                           \"Avg Total Purchase per Person\": '${0:,.2f}'})\n",
    "\n",
    "# display data frame\n",
    "purchasing_df"
   ]
  },
  {
   "cell_type": "markdown",
   "metadata": {},
   "source": [
    "## Age Demographics"
   ]
  },
  {
   "cell_type": "markdown",
   "metadata": {},
   "source": [
    "* Establish bins for ages\n",
    "\n",
    "\n",
    "* Categorize the existing players using the age bins. Hint: use pd.cut()\n",
    "\n",
    "\n",
    "* Calculate the numbers and percentages by age group\n",
    "\n",
    "\n",
    "* Create a summary data frame to hold the results\n",
    "\n",
    "\n",
    "* Optional: round the percentage column to two decimal points\n",
    "\n",
    "\n",
    "* Display Age Demographics Table\n"
   ]
  },
  {
   "cell_type": "code",
   "execution_count": 7,
   "metadata": {},
   "outputs": [
    {
     "data": {
      "text/html": [
       "<style  type=\"text/css\" >\n",
       "</style><table id=\"T_5795bb9e_286d_11ea_aea8_acde48001122\" ><thead>    <tr>        <th class=\"blank level0\" ></th>        <th class=\"col_heading level0 col0\" >Total Count</th>        <th class=\"col_heading level0 col1\" >Percentage of Players</th>    </tr></thead><tbody>\n",
       "                <tr>\n",
       "                        <th id=\"T_5795bb9e_286d_11ea_aea8_acde48001122level0_row0\" class=\"row_heading level0 row0\" ><10</th>\n",
       "                        <td id=\"T_5795bb9e_286d_11ea_aea8_acde48001122row0_col0\" class=\"data row0 col0\" >17</td>\n",
       "                        <td id=\"T_5795bb9e_286d_11ea_aea8_acde48001122row0_col1\" class=\"data row0 col1\" >2.95%</td>\n",
       "            </tr>\n",
       "            <tr>\n",
       "                        <th id=\"T_5795bb9e_286d_11ea_aea8_acde48001122level0_row1\" class=\"row_heading level0 row1\" >10-14</th>\n",
       "                        <td id=\"T_5795bb9e_286d_11ea_aea8_acde48001122row1_col0\" class=\"data row1 col0\" >22</td>\n",
       "                        <td id=\"T_5795bb9e_286d_11ea_aea8_acde48001122row1_col1\" class=\"data row1 col1\" >3.82%</td>\n",
       "            </tr>\n",
       "            <tr>\n",
       "                        <th id=\"T_5795bb9e_286d_11ea_aea8_acde48001122level0_row2\" class=\"row_heading level0 row2\" >15-19</th>\n",
       "                        <td id=\"T_5795bb9e_286d_11ea_aea8_acde48001122row2_col0\" class=\"data row2 col0\" >107</td>\n",
       "                        <td id=\"T_5795bb9e_286d_11ea_aea8_acde48001122row2_col1\" class=\"data row2 col1\" >18.58%</td>\n",
       "            </tr>\n",
       "            <tr>\n",
       "                        <th id=\"T_5795bb9e_286d_11ea_aea8_acde48001122level0_row3\" class=\"row_heading level0 row3\" >20-24</th>\n",
       "                        <td id=\"T_5795bb9e_286d_11ea_aea8_acde48001122row3_col0\" class=\"data row3 col0\" >258</td>\n",
       "                        <td id=\"T_5795bb9e_286d_11ea_aea8_acde48001122row3_col1\" class=\"data row3 col1\" >44.79%</td>\n",
       "            </tr>\n",
       "            <tr>\n",
       "                        <th id=\"T_5795bb9e_286d_11ea_aea8_acde48001122level0_row4\" class=\"row_heading level0 row4\" >25-29</th>\n",
       "                        <td id=\"T_5795bb9e_286d_11ea_aea8_acde48001122row4_col0\" class=\"data row4 col0\" >77</td>\n",
       "                        <td id=\"T_5795bb9e_286d_11ea_aea8_acde48001122row4_col1\" class=\"data row4 col1\" >13.37%</td>\n",
       "            </tr>\n",
       "            <tr>\n",
       "                        <th id=\"T_5795bb9e_286d_11ea_aea8_acde48001122level0_row5\" class=\"row_heading level0 row5\" >30-34</th>\n",
       "                        <td id=\"T_5795bb9e_286d_11ea_aea8_acde48001122row5_col0\" class=\"data row5 col0\" >52</td>\n",
       "                        <td id=\"T_5795bb9e_286d_11ea_aea8_acde48001122row5_col1\" class=\"data row5 col1\" >9.03%</td>\n",
       "            </tr>\n",
       "            <tr>\n",
       "                        <th id=\"T_5795bb9e_286d_11ea_aea8_acde48001122level0_row6\" class=\"row_heading level0 row6\" >35-39</th>\n",
       "                        <td id=\"T_5795bb9e_286d_11ea_aea8_acde48001122row6_col0\" class=\"data row6 col0\" >31</td>\n",
       "                        <td id=\"T_5795bb9e_286d_11ea_aea8_acde48001122row6_col1\" class=\"data row6 col1\" >5.38%</td>\n",
       "            </tr>\n",
       "            <tr>\n",
       "                        <th id=\"T_5795bb9e_286d_11ea_aea8_acde48001122level0_row7\" class=\"row_heading level0 row7\" >40+</th>\n",
       "                        <td id=\"T_5795bb9e_286d_11ea_aea8_acde48001122row7_col0\" class=\"data row7 col0\" >12</td>\n",
       "                        <td id=\"T_5795bb9e_286d_11ea_aea8_acde48001122row7_col1\" class=\"data row7 col1\" >2.08%</td>\n",
       "            </tr>\n",
       "    </tbody></table>"
      ],
      "text/plain": [
       "<pandas.io.formats.style.Styler at 0x105ef7f60>"
      ]
     },
     "execution_count": 7,
     "metadata": {},
     "output_type": "execute_result"
    }
   ],
   "source": [
    "# create labels and bins\n",
    "labels = [\"<10\", \"10-14\", \"15-19\", \"20-24\", \"25-29\", \"30-34\", \"35-39\", \"40+\"]\n",
    "bins = [0, 9, 14, 19, 24, 29, 34, 39, 100]\n",
    "\n",
    "# categorize players into bins\n",
    "uniqueSNAges_bins = pd.cut(uniqueSN_df[\"Age\"], bins = bins, labels = labels)\n",
    "\n",
    "# create age demographics data frame, assign value counts to total counts column\n",
    "ageDemo_df = pd.DataFrame({\"Total Count\": uniqueSNAges_bins.value_counts()}, index=labels)\n",
    "\n",
    "# calculate percentage of players by age bin\n",
    "ageDemo_df[\"Percentage of Players\"] = (ageDemo_df[\"Total Count\"] / total_players) * 100\n",
    "\n",
    "# clean up data frame\n",
    "ageDemo_df = ageDemo_df.style.format({\"Percentage of Players\": '{0:,.2f}%'})\n",
    "\n",
    "# display data frame\n",
    "ageDemo_df"
   ]
  },
  {
   "cell_type": "markdown",
   "metadata": {},
   "source": [
    "## Purchasing Analysis (Age)"
   ]
  },
  {
   "cell_type": "markdown",
   "metadata": {},
   "source": [
    "* Bin the purchase_data data frame by age\n",
    "\n",
    "\n",
    "* Run basic calculations to obtain purchase count, avg. purchase price, avg. purchase total per person etc. in the table below\n",
    "\n",
    "\n",
    "* Create a summary data frame to hold the results\n",
    "\n",
    "\n",
    "* Optional: give the displayed data cleaner formatting\n",
    "\n",
    "\n",
    "* Display the summary data frame"
   ]
  },
  {
   "cell_type": "code",
   "execution_count": 12,
   "metadata": {},
   "outputs": [
    {
     "data": {
      "text/html": [
       "<style  type=\"text/css\" >\n",
       "</style><table id=\"T_7ffefd70_286d_11ea_83e0_acde48001122\" ><thead>    <tr>        <th class=\"blank level0\" ></th>        <th class=\"col_heading level0 col0\" >Purchase Count</th>        <th class=\"col_heading level0 col1\" >Average Purchase Price</th>        <th class=\"col_heading level0 col2\" >Total Purchase Value</th>        <th class=\"col_heading level0 col3\" >Avg Total Purchase per Person</th>    </tr></thead><tbody>\n",
       "                <tr>\n",
       "                        <th id=\"T_7ffefd70_286d_11ea_83e0_acde48001122level0_row0\" class=\"row_heading level0 row0\" ><10</th>\n",
       "                        <td id=\"T_7ffefd70_286d_11ea_83e0_acde48001122row0_col0\" class=\"data row0 col0\" >23</td>\n",
       "                        <td id=\"T_7ffefd70_286d_11ea_83e0_acde48001122row0_col1\" class=\"data row0 col1\" >$3.35</td>\n",
       "                        <td id=\"T_7ffefd70_286d_11ea_83e0_acde48001122row0_col2\" class=\"data row0 col2\" >$77.13</td>\n",
       "                        <td id=\"T_7ffefd70_286d_11ea_83e0_acde48001122row0_col3\" class=\"data row0 col3\" >$4.54</td>\n",
       "            </tr>\n",
       "            <tr>\n",
       "                        <th id=\"T_7ffefd70_286d_11ea_83e0_acde48001122level0_row1\" class=\"row_heading level0 row1\" >10-14</th>\n",
       "                        <td id=\"T_7ffefd70_286d_11ea_83e0_acde48001122row1_col0\" class=\"data row1 col0\" >28</td>\n",
       "                        <td id=\"T_7ffefd70_286d_11ea_83e0_acde48001122row1_col1\" class=\"data row1 col1\" >$2.96</td>\n",
       "                        <td id=\"T_7ffefd70_286d_11ea_83e0_acde48001122row1_col2\" class=\"data row1 col2\" >$82.78</td>\n",
       "                        <td id=\"T_7ffefd70_286d_11ea_83e0_acde48001122row1_col3\" class=\"data row1 col3\" >$3.76</td>\n",
       "            </tr>\n",
       "            <tr>\n",
       "                        <th id=\"T_7ffefd70_286d_11ea_83e0_acde48001122level0_row2\" class=\"row_heading level0 row2\" >15-19</th>\n",
       "                        <td id=\"T_7ffefd70_286d_11ea_83e0_acde48001122row2_col0\" class=\"data row2 col0\" >136</td>\n",
       "                        <td id=\"T_7ffefd70_286d_11ea_83e0_acde48001122row2_col1\" class=\"data row2 col1\" >$3.04</td>\n",
       "                        <td id=\"T_7ffefd70_286d_11ea_83e0_acde48001122row2_col2\" class=\"data row2 col2\" >$412.89</td>\n",
       "                        <td id=\"T_7ffefd70_286d_11ea_83e0_acde48001122row2_col3\" class=\"data row2 col3\" >$3.86</td>\n",
       "            </tr>\n",
       "            <tr>\n",
       "                        <th id=\"T_7ffefd70_286d_11ea_83e0_acde48001122level0_row3\" class=\"row_heading level0 row3\" >20-24</th>\n",
       "                        <td id=\"T_7ffefd70_286d_11ea_83e0_acde48001122row3_col0\" class=\"data row3 col0\" >365</td>\n",
       "                        <td id=\"T_7ffefd70_286d_11ea_83e0_acde48001122row3_col1\" class=\"data row3 col1\" >$3.05</td>\n",
       "                        <td id=\"T_7ffefd70_286d_11ea_83e0_acde48001122row3_col2\" class=\"data row3 col2\" >$1,114.06</td>\n",
       "                        <td id=\"T_7ffefd70_286d_11ea_83e0_acde48001122row3_col3\" class=\"data row3 col3\" >$4.32</td>\n",
       "            </tr>\n",
       "            <tr>\n",
       "                        <th id=\"T_7ffefd70_286d_11ea_83e0_acde48001122level0_row4\" class=\"row_heading level0 row4\" >25-29</th>\n",
       "                        <td id=\"T_7ffefd70_286d_11ea_83e0_acde48001122row4_col0\" class=\"data row4 col0\" >101</td>\n",
       "                        <td id=\"T_7ffefd70_286d_11ea_83e0_acde48001122row4_col1\" class=\"data row4 col1\" >$2.90</td>\n",
       "                        <td id=\"T_7ffefd70_286d_11ea_83e0_acde48001122row4_col2\" class=\"data row4 col2\" >$293.00</td>\n",
       "                        <td id=\"T_7ffefd70_286d_11ea_83e0_acde48001122row4_col3\" class=\"data row4 col3\" >$3.81</td>\n",
       "            </tr>\n",
       "            <tr>\n",
       "                        <th id=\"T_7ffefd70_286d_11ea_83e0_acde48001122level0_row5\" class=\"row_heading level0 row5\" >30-34</th>\n",
       "                        <td id=\"T_7ffefd70_286d_11ea_83e0_acde48001122row5_col0\" class=\"data row5 col0\" >73</td>\n",
       "                        <td id=\"T_7ffefd70_286d_11ea_83e0_acde48001122row5_col1\" class=\"data row5 col1\" >$2.93</td>\n",
       "                        <td id=\"T_7ffefd70_286d_11ea_83e0_acde48001122row5_col2\" class=\"data row5 col2\" >$214.00</td>\n",
       "                        <td id=\"T_7ffefd70_286d_11ea_83e0_acde48001122row5_col3\" class=\"data row5 col3\" >$4.12</td>\n",
       "            </tr>\n",
       "            <tr>\n",
       "                        <th id=\"T_7ffefd70_286d_11ea_83e0_acde48001122level0_row6\" class=\"row_heading level0 row6\" >35-39</th>\n",
       "                        <td id=\"T_7ffefd70_286d_11ea_83e0_acde48001122row6_col0\" class=\"data row6 col0\" >41</td>\n",
       "                        <td id=\"T_7ffefd70_286d_11ea_83e0_acde48001122row6_col1\" class=\"data row6 col1\" >$3.60</td>\n",
       "                        <td id=\"T_7ffefd70_286d_11ea_83e0_acde48001122row6_col2\" class=\"data row6 col2\" >$147.67</td>\n",
       "                        <td id=\"T_7ffefd70_286d_11ea_83e0_acde48001122row6_col3\" class=\"data row6 col3\" >$4.76</td>\n",
       "            </tr>\n",
       "            <tr>\n",
       "                        <th id=\"T_7ffefd70_286d_11ea_83e0_acde48001122level0_row7\" class=\"row_heading level0 row7\" >40+</th>\n",
       "                        <td id=\"T_7ffefd70_286d_11ea_83e0_acde48001122row7_col0\" class=\"data row7 col0\" >13</td>\n",
       "                        <td id=\"T_7ffefd70_286d_11ea_83e0_acde48001122row7_col1\" class=\"data row7 col1\" >$2.94</td>\n",
       "                        <td id=\"T_7ffefd70_286d_11ea_83e0_acde48001122row7_col2\" class=\"data row7 col2\" >$38.24</td>\n",
       "                        <td id=\"T_7ffefd70_286d_11ea_83e0_acde48001122row7_col3\" class=\"data row7 col3\" >$3.19</td>\n",
       "            </tr>\n",
       "    </tbody></table>"
      ],
      "text/plain": [
       "<pandas.io.formats.style.Styler at 0x117d59b38>"
      ]
     },
     "execution_count": 12,
     "metadata": {},
     "output_type": "execute_result"
    }
   ],
   "source": [
    "# group purchase data by age\n",
    "ages_group = purchase_data.groupby(pd.cut(purchase_data[\"Age\"], bins=bins,labels=labels))\n",
    "\n",
    "# create new data frame\n",
    "ageAnalysis_df = pd.DataFrame({\"Purchase Count\": ages_group[\"SN\"].count()}, index=labels)\n",
    "\n",
    "# calculate values for data frame\n",
    "ageAnalysis_df[\"Average Purchase Price\"] = ages_group[\"Price\"].sum() / ages_group[\"SN\"].count()\n",
    "ageAnalysis_df[\"Total Purchase Value\"] = ages_group[\"Price\"].sum()\n",
    "ageAnalysis_df[\"Avg Total Purchase per Person\"] = ages_group[\"Price\"].sum() / uniqueSNAges_bins.value_counts()\n",
    "\n",
    "# clean up data frame\n",
    "ageAnalysis_df = ageAnalysis_df.style.format({\"Average Purchase Price\": '${0:,.2f}',\n",
    "                                             \"Total Purchase Value\": '${0:,.2f}',\n",
    "                                            \"Avg Total Purchase per Person\": '${0:,.2f}'})\n",
    "\n",
    "# display data frame\n",
    "ageAnalysis_df"
   ]
  },
  {
   "cell_type": "markdown",
   "metadata": {},
   "source": [
    "## Top Spenders"
   ]
  },
  {
   "cell_type": "markdown",
   "metadata": {},
   "source": [
    "* Run basic calculations to obtain the results in the table below\n",
    "\n",
    "\n",
    "* Create a summary data frame to hold the results\n",
    "\n",
    "\n",
    "* Sort the total purchase value column in descending order\n",
    "\n",
    "\n",
    "* Optional: give the displayed data cleaner formatting\n",
    "\n",
    "\n",
    "* Display a preview of the summary data frame\n",
    "\n"
   ]
  },
  {
   "cell_type": "code",
   "execution_count": 13,
   "metadata": {},
   "outputs": [
    {
     "data": {
      "text/html": [
       "<style  type=\"text/css\" >\n",
       "</style><table id=\"T_835585ca_286d_11ea_b5a7_acde48001122\" ><thead>    <tr>        <th class=\"blank level0\" ></th>        <th class=\"col_heading level0 col0\" >Purchase Count</th>        <th class=\"col_heading level0 col1\" >Average Purchase Price</th>        <th class=\"col_heading level0 col2\" >Total Purchase Value</th>    </tr>    <tr>        <th class=\"index_name level0\" >SN</th>        <th class=\"blank\" ></th>        <th class=\"blank\" ></th>        <th class=\"blank\" ></th>    </tr></thead><tbody>\n",
       "                <tr>\n",
       "                        <th id=\"T_835585ca_286d_11ea_b5a7_acde48001122level0_row0\" class=\"row_heading level0 row0\" >Lisosia93</th>\n",
       "                        <td id=\"T_835585ca_286d_11ea_b5a7_acde48001122row0_col0\" class=\"data row0 col0\" >5</td>\n",
       "                        <td id=\"T_835585ca_286d_11ea_b5a7_acde48001122row0_col1\" class=\"data row0 col1\" >$3.79</td>\n",
       "                        <td id=\"T_835585ca_286d_11ea_b5a7_acde48001122row0_col2\" class=\"data row0 col2\" >$18.96</td>\n",
       "            </tr>\n",
       "            <tr>\n",
       "                        <th id=\"T_835585ca_286d_11ea_b5a7_acde48001122level0_row1\" class=\"row_heading level0 row1\" >Idastidru52</th>\n",
       "                        <td id=\"T_835585ca_286d_11ea_b5a7_acde48001122row1_col0\" class=\"data row1 col0\" >4</td>\n",
       "                        <td id=\"T_835585ca_286d_11ea_b5a7_acde48001122row1_col1\" class=\"data row1 col1\" >$3.86</td>\n",
       "                        <td id=\"T_835585ca_286d_11ea_b5a7_acde48001122row1_col2\" class=\"data row1 col2\" >$15.45</td>\n",
       "            </tr>\n",
       "            <tr>\n",
       "                        <th id=\"T_835585ca_286d_11ea_b5a7_acde48001122level0_row2\" class=\"row_heading level0 row2\" >Chamjask73</th>\n",
       "                        <td id=\"T_835585ca_286d_11ea_b5a7_acde48001122row2_col0\" class=\"data row2 col0\" >3</td>\n",
       "                        <td id=\"T_835585ca_286d_11ea_b5a7_acde48001122row2_col1\" class=\"data row2 col1\" >$4.61</td>\n",
       "                        <td id=\"T_835585ca_286d_11ea_b5a7_acde48001122row2_col2\" class=\"data row2 col2\" >$13.83</td>\n",
       "            </tr>\n",
       "            <tr>\n",
       "                        <th id=\"T_835585ca_286d_11ea_b5a7_acde48001122level0_row3\" class=\"row_heading level0 row3\" >Iral74</th>\n",
       "                        <td id=\"T_835585ca_286d_11ea_b5a7_acde48001122row3_col0\" class=\"data row3 col0\" >4</td>\n",
       "                        <td id=\"T_835585ca_286d_11ea_b5a7_acde48001122row3_col1\" class=\"data row3 col1\" >$3.40</td>\n",
       "                        <td id=\"T_835585ca_286d_11ea_b5a7_acde48001122row3_col2\" class=\"data row3 col2\" >$13.62</td>\n",
       "            </tr>\n",
       "            <tr>\n",
       "                        <th id=\"T_835585ca_286d_11ea_b5a7_acde48001122level0_row4\" class=\"row_heading level0 row4\" >Iskadarya95</th>\n",
       "                        <td id=\"T_835585ca_286d_11ea_b5a7_acde48001122row4_col0\" class=\"data row4 col0\" >3</td>\n",
       "                        <td id=\"T_835585ca_286d_11ea_b5a7_acde48001122row4_col1\" class=\"data row4 col1\" >$4.37</td>\n",
       "                        <td id=\"T_835585ca_286d_11ea_b5a7_acde48001122row4_col2\" class=\"data row4 col2\" >$13.10</td>\n",
       "            </tr>\n",
       "    </tbody></table>"
      ],
      "text/plain": [
       "<pandas.io.formats.style.Styler at 0x117415198>"
      ]
     },
     "execution_count": 13,
     "metadata": {},
     "output_type": "execute_result"
    }
   ],
   "source": [
    "# create new data frame with needed values\n",
    "topSpenders_df = pd.DataFrame({\"Purchase Count\": purchase_data[\"SN\"].value_counts(),\n",
    "                               \"Total Purchase Value\": purchase_data[\"Price\"].groupby(purchase_data[\"SN\"]).sum()})\n",
    "\n",
    "# separate line as the data frame needs to be created first\n",
    "topSpenders_df[\"Average Purchase Price\"] = topSpenders_df[\"Total Purchase Value\"] / topSpenders_df[\"Purchase Count\"]\n",
    "\n",
    "# organize columns\n",
    "topSpenders_df = topSpenders_df[[\"Purchase Count\", \"Average Purchase Price\", \"Total Purchase Value\"]]\n",
    "\n",
    "# name the index\n",
    "topSpenders_df.index.name = \"SN\"\n",
    "\n",
    "# sort data frame\n",
    "topSpenders_df = topSpenders_df.sort_values(\"Total Purchase Value\", ascending=False)\n",
    "\n",
    "# clean up data frame and only show top 5\n",
    "topSpenders_df = topSpenders_df.head(5).style.format({\"Average Purchase Price\": '${0:,.2f}',\n",
    "                                                      \"Total Purchase Value\": '${0:,.2f}'})\n",
    "\n",
    "# display data frame\n",
    "topSpenders_df"
   ]
  },
  {
   "cell_type": "markdown",
   "metadata": {},
   "source": [
    "## Most Popular Items"
   ]
  },
  {
   "cell_type": "markdown",
   "metadata": {},
   "source": [
    "* Retrieve the Item ID, Item Name, and Item Price columns\n",
    "\n",
    "\n",
    "* Group by Item ID and Item Name. Perform calculations to obtain purchase count, item price, and total purchase value\n",
    "\n",
    "\n",
    "* Create a summary data frame to hold the results\n",
    "\n",
    "\n",
    "* Sort the purchase count column in descending order\n",
    "\n",
    "\n",
    "* Optional: give the displayed data cleaner formatting\n",
    "\n",
    "\n",
    "* Display a preview of the summary data frame\n",
    "\n"
   ]
  },
  {
   "cell_type": "code",
   "execution_count": 14,
   "metadata": {},
   "outputs": [
    {
     "data": {
      "text/html": [
       "<style  type=\"text/css\" >\n",
       "</style><table id=\"T_854b1f48_286d_11ea_bf77_acde48001122\" ><thead>    <tr>        <th class=\"blank\" ></th>        <th class=\"blank level0\" ></th>        <th class=\"col_heading level0 col0\" >Purchase Count</th>        <th class=\"col_heading level0 col1\" >Item Price</th>        <th class=\"col_heading level0 col2\" >Total Purchase Value</th>    </tr>    <tr>        <th class=\"index_name level0\" >Item ID</th>        <th class=\"index_name level1\" >Item Name</th>        <th class=\"blank\" ></th>        <th class=\"blank\" ></th>        <th class=\"blank\" ></th>    </tr></thead><tbody>\n",
       "                <tr>\n",
       "                        <th id=\"T_854b1f48_286d_11ea_bf77_acde48001122level0_row0\" class=\"row_heading level0 row0\" >178</th>\n",
       "                        <th id=\"T_854b1f48_286d_11ea_bf77_acde48001122level1_row0\" class=\"row_heading level1 row0\" >Oathbreaker, Last Hope of the Breaking Storm</th>\n",
       "                        <td id=\"T_854b1f48_286d_11ea_bf77_acde48001122row0_col0\" class=\"data row0 col0\" >12</td>\n",
       "                        <td id=\"T_854b1f48_286d_11ea_bf77_acde48001122row0_col1\" class=\"data row0 col1\" >$4.23</td>\n",
       "                        <td id=\"T_854b1f48_286d_11ea_bf77_acde48001122row0_col2\" class=\"data row0 col2\" >$50.76</td>\n",
       "            </tr>\n",
       "            <tr>\n",
       "                        <th id=\"T_854b1f48_286d_11ea_bf77_acde48001122level0_row1\" class=\"row_heading level0 row1\" >145</th>\n",
       "                        <th id=\"T_854b1f48_286d_11ea_bf77_acde48001122level1_row1\" class=\"row_heading level1 row1\" >Fiery Glass Crusader</th>\n",
       "                        <td id=\"T_854b1f48_286d_11ea_bf77_acde48001122row1_col0\" class=\"data row1 col0\" >9</td>\n",
       "                        <td id=\"T_854b1f48_286d_11ea_bf77_acde48001122row1_col1\" class=\"data row1 col1\" >$4.58</td>\n",
       "                        <td id=\"T_854b1f48_286d_11ea_bf77_acde48001122row1_col2\" class=\"data row1 col2\" >$41.22</td>\n",
       "            </tr>\n",
       "            <tr>\n",
       "                        <th id=\"T_854b1f48_286d_11ea_bf77_acde48001122level0_row2\" class=\"row_heading level0 row2\" >108</th>\n",
       "                        <th id=\"T_854b1f48_286d_11ea_bf77_acde48001122level1_row2\" class=\"row_heading level1 row2\" >Extraction, Quickblade Of Trembling Hands</th>\n",
       "                        <td id=\"T_854b1f48_286d_11ea_bf77_acde48001122row2_col0\" class=\"data row2 col0\" >9</td>\n",
       "                        <td id=\"T_854b1f48_286d_11ea_bf77_acde48001122row2_col1\" class=\"data row2 col1\" >$3.53</td>\n",
       "                        <td id=\"T_854b1f48_286d_11ea_bf77_acde48001122row2_col2\" class=\"data row2 col2\" >$31.77</td>\n",
       "            </tr>\n",
       "            <tr>\n",
       "                        <th id=\"T_854b1f48_286d_11ea_bf77_acde48001122level0_row3\" class=\"row_heading level0 row3\" >82</th>\n",
       "                        <th id=\"T_854b1f48_286d_11ea_bf77_acde48001122level1_row3\" class=\"row_heading level1 row3\" >Nirvana</th>\n",
       "                        <td id=\"T_854b1f48_286d_11ea_bf77_acde48001122row3_col0\" class=\"data row3 col0\" >9</td>\n",
       "                        <td id=\"T_854b1f48_286d_11ea_bf77_acde48001122row3_col1\" class=\"data row3 col1\" >$4.90</td>\n",
       "                        <td id=\"T_854b1f48_286d_11ea_bf77_acde48001122row3_col2\" class=\"data row3 col2\" >$44.10</td>\n",
       "            </tr>\n",
       "            <tr>\n",
       "                        <th id=\"T_854b1f48_286d_11ea_bf77_acde48001122level0_row4\" class=\"row_heading level0 row4\" >103</th>\n",
       "                        <th id=\"T_854b1f48_286d_11ea_bf77_acde48001122level1_row4\" class=\"row_heading level1 row4\" >Singed Scalpel</th>\n",
       "                        <td id=\"T_854b1f48_286d_11ea_bf77_acde48001122row4_col0\" class=\"data row4 col0\" >8</td>\n",
       "                        <td id=\"T_854b1f48_286d_11ea_bf77_acde48001122row4_col1\" class=\"data row4 col1\" >$4.35</td>\n",
       "                        <td id=\"T_854b1f48_286d_11ea_bf77_acde48001122row4_col2\" class=\"data row4 col2\" >$34.80</td>\n",
       "            </tr>\n",
       "    </tbody></table>"
      ],
      "text/plain": [
       "<pandas.io.formats.style.Styler at 0x117d88208>"
      ]
     },
     "execution_count": 14,
     "metadata": {},
     "output_type": "execute_result"
    }
   ],
   "source": [
    "# create data frame with information I already have\n",
    "itemInfo_df = purchase_data[[\"Item ID\", \"Item Name\", \"Price\"]]\n",
    "\n",
    "# create data frame with new information\n",
    "itemData_df = pd.DataFrame({\"Purchase Count\": purchase_data[\"Item ID\"].value_counts(), \n",
    "                         \"Total Purchase Value\": purchase_data[\"Price\"].groupby(purchase_data[\"Item ID\"]).sum()})\n",
    "\n",
    "# name the index for merging\n",
    "itemData_df.index.name = \"Item ID\"\n",
    "\n",
    "# merge data frames\n",
    "merged_df = pd.merge(itemInfo_df, itemData_df, on=\"Item ID\")\n",
    "\n",
    "# drop duplicates\n",
    "allItems_df = merged_df.drop_duplicates([\"Item ID\"])\n",
    "\n",
    "# organize columns\n",
    "allItems_df = allItems_df[[\"Item ID\", \"Item Name\", \"Purchase Count\", \"Price\", \"Total Purchase Value\"]]\n",
    "\n",
    "# rename column\n",
    "allItems_df = allItems_df.rename(columns={\"Price\": \"Item Price\"})\n",
    "\n",
    "# sort data frame by purchase count then item ID\n",
    "mostPopularItems_df = allItems_df.sort_values([\"Purchase Count\", \"Item ID\"], ascending = False)\n",
    "\n",
    "# create proper indexes as requested\n",
    "mostPopularItems_df.set_index([\"Item ID\", \"Item Name\"], inplace=True)\n",
    "\n",
    "# clean up data frame\n",
    "mostPopularItems_df = mostPopularItems_df.head().style.format({\"Item Price\": '${0:,.2f}',\n",
    "                                                     \"Total Purchase Value\": '${0:,.2f}'})\n",
    "\n",
    "# display data frame\n",
    "mostPopularItems_df"
   ]
  },
  {
   "cell_type": "markdown",
   "metadata": {},
   "source": [
    "## Most Profitable Items"
   ]
  },
  {
   "cell_type": "markdown",
   "metadata": {},
   "source": [
    "* Sort the above table by total purchase value in descending order\n",
    "\n",
    "\n",
    "* Optional: give the displayed data cleaner formatting\n",
    "\n",
    "\n",
    "* Display a preview of the data frame\n",
    "\n"
   ]
  },
  {
   "cell_type": "code",
   "execution_count": 15,
   "metadata": {
    "scrolled": true
   },
   "outputs": [
    {
     "data": {
      "text/html": [
       "<style  type=\"text/css\" >\n",
       "</style><table id=\"T_88381906_286d_11ea_a40e_acde48001122\" ><thead>    <tr>        <th class=\"blank\" ></th>        <th class=\"blank level0\" ></th>        <th class=\"col_heading level0 col0\" >Purchase Count</th>        <th class=\"col_heading level0 col1\" >Item Price</th>        <th class=\"col_heading level0 col2\" >Total Purchase Value</th>    </tr>    <tr>        <th class=\"index_name level0\" >Item ID</th>        <th class=\"index_name level1\" >Item Name</th>        <th class=\"blank\" ></th>        <th class=\"blank\" ></th>        <th class=\"blank\" ></th>    </tr></thead><tbody>\n",
       "                <tr>\n",
       "                        <th id=\"T_88381906_286d_11ea_a40e_acde48001122level0_row0\" class=\"row_heading level0 row0\" >178</th>\n",
       "                        <th id=\"T_88381906_286d_11ea_a40e_acde48001122level1_row0\" class=\"row_heading level1 row0\" >Oathbreaker, Last Hope of the Breaking Storm</th>\n",
       "                        <td id=\"T_88381906_286d_11ea_a40e_acde48001122row0_col0\" class=\"data row0 col0\" >12</td>\n",
       "                        <td id=\"T_88381906_286d_11ea_a40e_acde48001122row0_col1\" class=\"data row0 col1\" >$4.23</td>\n",
       "                        <td id=\"T_88381906_286d_11ea_a40e_acde48001122row0_col2\" class=\"data row0 col2\" >$50.76</td>\n",
       "            </tr>\n",
       "            <tr>\n",
       "                        <th id=\"T_88381906_286d_11ea_a40e_acde48001122level0_row1\" class=\"row_heading level0 row1\" >82</th>\n",
       "                        <th id=\"T_88381906_286d_11ea_a40e_acde48001122level1_row1\" class=\"row_heading level1 row1\" >Nirvana</th>\n",
       "                        <td id=\"T_88381906_286d_11ea_a40e_acde48001122row1_col0\" class=\"data row1 col0\" >9</td>\n",
       "                        <td id=\"T_88381906_286d_11ea_a40e_acde48001122row1_col1\" class=\"data row1 col1\" >$4.90</td>\n",
       "                        <td id=\"T_88381906_286d_11ea_a40e_acde48001122row1_col2\" class=\"data row1 col2\" >$44.10</td>\n",
       "            </tr>\n",
       "            <tr>\n",
       "                        <th id=\"T_88381906_286d_11ea_a40e_acde48001122level0_row2\" class=\"row_heading level0 row2\" >145</th>\n",
       "                        <th id=\"T_88381906_286d_11ea_a40e_acde48001122level1_row2\" class=\"row_heading level1 row2\" >Fiery Glass Crusader</th>\n",
       "                        <td id=\"T_88381906_286d_11ea_a40e_acde48001122row2_col0\" class=\"data row2 col0\" >9</td>\n",
       "                        <td id=\"T_88381906_286d_11ea_a40e_acde48001122row2_col1\" class=\"data row2 col1\" >$4.58</td>\n",
       "                        <td id=\"T_88381906_286d_11ea_a40e_acde48001122row2_col2\" class=\"data row2 col2\" >$41.22</td>\n",
       "            </tr>\n",
       "            <tr>\n",
       "                        <th id=\"T_88381906_286d_11ea_a40e_acde48001122level0_row3\" class=\"row_heading level0 row3\" >92</th>\n",
       "                        <th id=\"T_88381906_286d_11ea_a40e_acde48001122level1_row3\" class=\"row_heading level1 row3\" >Final Critic</th>\n",
       "                        <td id=\"T_88381906_286d_11ea_a40e_acde48001122row3_col0\" class=\"data row3 col0\" >8</td>\n",
       "                        <td id=\"T_88381906_286d_11ea_a40e_acde48001122row3_col1\" class=\"data row3 col1\" >$4.88</td>\n",
       "                        <td id=\"T_88381906_286d_11ea_a40e_acde48001122row3_col2\" class=\"data row3 col2\" >$39.04</td>\n",
       "            </tr>\n",
       "            <tr>\n",
       "                        <th id=\"T_88381906_286d_11ea_a40e_acde48001122level0_row4\" class=\"row_heading level0 row4\" >103</th>\n",
       "                        <th id=\"T_88381906_286d_11ea_a40e_acde48001122level1_row4\" class=\"row_heading level1 row4\" >Singed Scalpel</th>\n",
       "                        <td id=\"T_88381906_286d_11ea_a40e_acde48001122row4_col0\" class=\"data row4 col0\" >8</td>\n",
       "                        <td id=\"T_88381906_286d_11ea_a40e_acde48001122row4_col1\" class=\"data row4 col1\" >$4.35</td>\n",
       "                        <td id=\"T_88381906_286d_11ea_a40e_acde48001122row4_col2\" class=\"data row4 col2\" >$34.80</td>\n",
       "            </tr>\n",
       "    </tbody></table>"
      ],
      "text/plain": [
       "<pandas.io.formats.style.Styler at 0x117d01400>"
      ]
     },
     "execution_count": 15,
     "metadata": {},
     "output_type": "execute_result"
    }
   ],
   "source": [
    "# create new database with proper sorting\n",
    "mostProfitableItems_df = allItems_df.sort_values(\"Total Purchase Value\", ascending=False)\n",
    "\n",
    "# create proper indexes as requested\n",
    "mostProfitableItems_df.set_index([\"Item ID\", \"Item Name\"], inplace=True)\n",
    "\n",
    "# clean up data frame\n",
    "mostProfitableItems_df = mostProfitableItems_df.head().style.format({\"Item Price\": '${0:,.2f}',\n",
    "                                                     \"Total Purchase Value\": '${0:,.2f}'})\n",
    "\n",
    "# display data frame\n",
    "mostProfitableItems_df"
   ]
  },
  {
   "cell_type": "code",
   "execution_count": null,
   "metadata": {},
   "outputs": [],
   "source": []
  }
 ],
 "metadata": {
  "anaconda-cloud": {},
  "kernel_info": {
   "name": "python3"
  },
  "kernelspec": {
   "display_name": "Python 3",
   "language": "python",
   "name": "python3"
  },
  "language_info": {
   "codemirror_mode": {
    "name": "ipython",
    "version": 3
   },
   "file_extension": ".py",
   "mimetype": "text/x-python",
   "name": "python",
   "nbconvert_exporter": "python",
   "pygments_lexer": "ipython3",
   "version": "3.6.9"
  },
  "latex_envs": {
   "LaTeX_envs_menu_present": true,
   "autoclose": false,
   "autocomplete": true,
   "bibliofile": "biblio.bib",
   "cite_by": "apalike",
   "current_citInitial": 1,
   "eqLabelWithNumbers": true,
   "eqNumInitial": 1,
   "hotkeys": {
    "equation": "Ctrl-E",
    "itemize": "Ctrl-I"
   },
   "labels_anchors": false,
   "latex_user_defs": false,
   "report_style_numbering": false,
   "user_envs_cfg": false
  },
  "nteract": {
   "version": "0.2.0"
  }
 },
 "nbformat": 4,
 "nbformat_minor": 2
}
